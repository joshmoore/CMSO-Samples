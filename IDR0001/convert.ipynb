{
 "cells": [
  {
   "cell_type": "markdown",
   "metadata": {},
   "source": [
    "Converts the current IDR metadata format into a datapackage-based json file. On loading the file using the jsonschema-pandas backend, both the library and processed data files are automatically converted to DataFrames."
   ]
  },
  {
   "cell_type": "code",
   "execution_count": 1,
   "metadata": {
    "collapsed": false
   },
   "outputs": [],
   "source": [
    "study=\"idr0001-study.txt\""
   ]
  },
  {
   "cell_type": "code",
   "execution_count": 2,
   "metadata": {
    "collapsed": true
   },
   "outputs": [],
   "source": [
    "from fileinput import input\n",
    "from fileinput import close"
   ]
  },
  {
   "cell_type": "code",
   "execution_count": 3,
   "metadata": {
    "collapsed": false
   },
   "outputs": [
    {
     "name": "stdout",
     "output_type": "stream",
     "text": [
      ">>>> Unused lines:\n",
      "  >> \"# Section with generic information about the study including title, description\n",
      "  >> # Study\n",
      "  >> # Study Publication\n",
      "  >> # Study Contacts\n",
      "  >> \"# Section containing all information relative to each screen in the study inclu\n",
      "  >> # Screen; this section should be repeated if a study contains multiple screens\n",
      "  >> \"# Library section. The library file should be supplied separately and it should\n",
      "  >> # Protocols\n",
      "  >> # Phenotypes\n",
      "  >> # Raw Data Files\n",
      "  >> # Feature Level Data Files (give individual file details unless there is one fil\n",
      "  >> #  Processed Data Files\n"
     ]
    }
   ],
   "source": [
    "sections = [{}]\n",
    "close()  # just in case\n",
    "print \">>>> Unused lines:\"\n",
    "for line in input([study]):\n",
    "    line = line.rstrip(\"\\n\")\n",
    "    if \"Screen Number\" in line:\n",
    "        sections.append({})\n",
    "        section = int(line[13:].strip())\n",
    "        assert len(sections)-1 == section\n",
    "        sections[-1][\"Screen Number\"] = section\n",
    "    else:\n",
    "        if not (line.startswith(\"#\") or line.startswith(\"\\\"#\")):\n",
    "            parts = line.split(\"\\t\", 1)\n",
    "            sections[-1][parts[0].strip()] = parts[1].strip()\n",
    "        elif line.strip():\n",
    "            print \"  >>\", line[0:80].strip()"
   ]
  },
  {
   "cell_type": "code",
   "execution_count": 4,
   "metadata": {
    "collapsed": false
   },
   "outputs": [],
   "source": [
    "from os.path import exists\n",
    "from os.path import join\n",
    "from jsontableschema import infer\n",
    "\n",
    "import datapackage as dp\n",
    "import csv\n",
    "import io\n",
    "\n",
    "myDP = dp.DataPackage()\n",
    "\n",
    "# Required properties\n",
    "myDP.descriptor['name'] = study\n",
    "\n",
    "# Dynamic values from study file\n",
    "for k, v in sections[0].items():  # Top-level\n",
    "    myDP.descriptor[k] = v\n",
    "\n",
    "    myDP.descriptor['resources'] = []\n",
    "\n",
    "for section in sections[1:]:\n",
    "    num = section[\"Screen Number\"]\n",
    "    isn = section[\"Comment[IDR Screen Name]\"]\n",
    "    isp = isn.split(\"/\")[1]\n",
    "    lib = section[\"Library File Name\"].replace(\"txt\", \"tsv\")\n",
    "    pdf = section[\"Processed Data File Name\"].replace(\"txt\", \"tsv\")\n",
    "    \n",
    "    if not (exists(join(isp, lib)) and exists(join(isp, pdf))):\n",
    "        raise Exception(\"Could not find in %s: %s and %s\" % (isp, lib, pdf))\n",
    "    for name, path in ((\"library\", lib), (\"processed data\", pdf)):\n",
    "        with io.open(join(isp, path)) as stream:\n",
    "            headers = stream.readline().rstrip('\\n').split('\\t')\n",
    "            values = csv.reader(stream, dialect=\"excel\", delimiter=\"\\t\")\n",
    "            schema = infer(headers, values)\n",
    "            for field in schema['fields']:\n",
    "                if field['type'] == 'geojson':\n",
    "                    del field['type']\n",
    "        myDP.descriptor['resources'].append(\n",
    "            {\n",
    "                \"name\": \"%s %s file\" % (isp, name),\n",
    "                \"path\": join(isp, path),\n",
    "                \"schema\": schema,\n",
    "            }\n",
    "        )"
   ]
  },
  {
   "cell_type": "code",
   "execution_count": 5,
   "metadata": {
    "collapsed": true
   },
   "outputs": [],
   "source": [
    "with open(study.replace(\"txt\", \"json\"), \"w\") as f:\n",
    "    f.write(myDP.to_json())"
   ]
  },
  {
   "cell_type": "markdown",
   "metadata": {},
   "source": [
    "Conversion complete. Re-read the written study json file."
   ]
  },
  {
   "cell_type": "code",
   "execution_count": 6,
   "metadata": {
    "collapsed": false
   },
   "outputs": [],
   "source": [
    "copyDP = dp.DataPackage(study.replace(\"txt\", \"json\"))"
   ]
  },
  {
   "cell_type": "code",
   "execution_count": 7,
   "metadata": {
    "collapsed": false
   },
   "outputs": [],
   "source": [
    "# Requires: pip install jsontableschema-pandas\n",
    "storage = dp.push_datapackage(descriptor=study.replace(\"txt\", \"json\"), backend='pandas')"
   ]
  },
  {
   "cell_type": "code",
   "execution_count": 8,
   "metadata": {
    "collapsed": false
   },
   "outputs": [],
   "source": [
    "processed = storage[storage.buckets[0]]\n",
    "library = storage[storage.buckets[1]]"
   ]
  },
  {
   "cell_type": "code",
   "execution_count": 9,
   "metadata": {
    "collapsed": false
   },
   "outputs": [
    {
     "data": {
      "text/html": [
       "<div>\n",
       "<table border=\"1\" class=\"dataframe\">\n",
       "  <thead>\n",
       "    <tr style=\"text-align: right;\">\n",
       "      <th></th>\n",
       "      <th>Plate</th>\n",
       "      <th>Well Number</th>\n",
       "      <th>Well</th>\n",
       "      <th>Characteristics [Organism]</th>\n",
       "      <th>Term Source 1 REF</th>\n",
       "      <th>Term Source 1 Accession</th>\n",
       "      <th>Characteristics [Strain]</th>\n",
       "      <th>Gene Identifier</th>\n",
       "      <th>Gene Symbol</th>\n",
       "      <th>Reagent Design Gene Annotation Build</th>\n",
       "      <th>Analysis Gene Annotation Build</th>\n",
       "      <th>Control Type</th>\n",
       "      <th>Control Comments</th>\n",
       "      <th>Channels</th>\n",
       "      <th>Replicate Group</th>\n",
       "      <th>Plate Issues</th>\n",
       "    </tr>\n",
       "  </thead>\n",
       "  <tbody>\n",
       "    <tr>\n",
       "      <th>count</th>\n",
       "      <td>18720</td>\n",
       "      <td>18720</td>\n",
       "      <td>18720</td>\n",
       "      <td>18720</td>\n",
       "      <td>18720</td>\n",
       "      <td>18720</td>\n",
       "      <td>18720</td>\n",
       "      <td>18720</td>\n",
       "      <td>18720</td>\n",
       "      <td>18720</td>\n",
       "      <td>18720</td>\n",
       "      <td>18720</td>\n",
       "      <td>18720</td>\n",
       "      <td>18720</td>\n",
       "      <td>18720</td>\n",
       "      <td>18720</td>\n",
       "    </tr>\n",
       "    <tr>\n",
       "      <th>unique</th>\n",
       "      <td>195</td>\n",
       "      <td>96</td>\n",
       "      <td>96</td>\n",
       "      <td>2</td>\n",
       "      <td>2</td>\n",
       "      <td>2</td>\n",
       "      <td>3010</td>\n",
       "      <td>3006</td>\n",
       "      <td>1881</td>\n",
       "      <td>1</td>\n",
       "      <td>1</td>\n",
       "      <td>5</td>\n",
       "      <td>4</td>\n",
       "      <td>1</td>\n",
       "      <td>3</td>\n",
       "      <td>2</td>\n",
       "    </tr>\n",
       "    <tr>\n",
       "      <th>top</th>\n",
       "      <td>JL_130116_J6_6</td>\n",
       "      <td>5</td>\n",
       "      <td>A8</td>\n",
       "      <td>Schizosaccharomyces pombe</td>\n",
       "      <td>NCBITaxon</td>\n",
       "      <td>NCBITaxon_4896</td>\n",
       "      <td>MS1404</td>\n",
       "      <td></td>\n",
       "      <td></td>\n",
       "      <td></td>\n",
       "      <td></td>\n",
       "      <td></td>\n",
       "      <td></td>\n",
       "      <td>GFP:endogenous alpha tubulin 2;Cascade blue:gr...</td>\n",
       "      <td>3</td>\n",
       "      <td></td>\n",
       "    </tr>\n",
       "    <tr>\n",
       "      <th>freq</th>\n",
       "      <td>96</td>\n",
       "      <td>195</td>\n",
       "      <td>195</td>\n",
       "      <td>17550</td>\n",
       "      <td>17550</td>\n",
       "      <td>17550</td>\n",
       "      <td>2473</td>\n",
       "      <td>3830</td>\n",
       "      <td>8569</td>\n",
       "      <td>18720</td>\n",
       "      <td>18720</td>\n",
       "      <td>13549</td>\n",
       "      <td>16203</td>\n",
       "      <td>18720</td>\n",
       "      <td>8832</td>\n",
       "      <td>18432</td>\n",
       "    </tr>\n",
       "  </tbody>\n",
       "</table>\n",
       "</div>"
      ],
      "text/plain": [
       "                 Plate Well Number   Well Characteristics [Organism]  \\\n",
       "count            18720       18720  18720                      18720   \n",
       "unique             195          96     96                          2   \n",
       "top     JL_130116_J6_6           5     A8  Schizosaccharomyces pombe   \n",
       "freq                96         195    195                      17550   \n",
       "\n",
       "       Term Source 1 REF Term Source 1 Accession Characteristics [Strain]  \\\n",
       "count              18720                   18720                    18720   \n",
       "unique                 2                       2                     3010   \n",
       "top            NCBITaxon          NCBITaxon_4896                   MS1404   \n",
       "freq               17550                   17550                     2473   \n",
       "\n",
       "       Gene Identifier Gene Symbol Reagent Design Gene Annotation Build  \\\n",
       "count            18720       18720                                18720   \n",
       "unique            3006        1881                                    1   \n",
       "top                                                                       \n",
       "freq              3830        8569                                18720   \n",
       "\n",
       "       Analysis Gene Annotation Build Control Type Control Comments  \\\n",
       "count                           18720        18720            18720   \n",
       "unique                              1            5                4   \n",
       "top                                                                   \n",
       "freq                            18720        13549            16203   \n",
       "\n",
       "                                                 Channels Replicate Group  \\\n",
       "count                                               18720           18720   \n",
       "unique                                                  1               3   \n",
       "top     GFP:endogenous alpha tubulin 2;Cascade blue:gr...               3   \n",
       "freq                                                18720            8832   \n",
       "\n",
       "       Plate Issues  \n",
       "count         18720  \n",
       "unique            2  \n",
       "top                  \n",
       "freq          18432  "
      ]
     },
     "execution_count": 9,
     "metadata": {},
     "output_type": "execute_result"
    }
   ],
   "source": [
    "processed.describe()"
   ]
  },
  {
   "cell_type": "code",
   "execution_count": 10,
   "metadata": {
    "collapsed": false
   },
   "outputs": [
    {
     "data": {
      "text/html": [
       "<div>\n",
       "<table border=\"1\" class=\"dataframe\">\n",
       "  <thead>\n",
       "    <tr style=\"text-align: right;\">\n",
       "      <th></th>\n",
       "      <th>Gene Identifier</th>\n",
       "      <th>Gene Symbol</th>\n",
       "      <th>Reproducibility of Shape Hits</th>\n",
       "      <th>Reproducibility of Microtubule Hits</th>\n",
       "      <th>Reproducibility of Cell Cycle Progression Hits</th>\n",
       "      <th>Visual Shape Hit</th>\n",
       "      <th>Visual Microtubule Hit</th>\n",
       "      <th>Conservation in S. cerevisiae</th>\n",
       "      <th>Conservation in Vertebrates</th>\n",
       "      <th>Conservation in H. sapiens</th>\n",
       "      <th>...</th>\n",
       "      <th>Phenotype 10</th>\n",
       "      <th>Phenotype 11</th>\n",
       "      <th>Phenotype 12</th>\n",
       "      <th>Phenotype 13</th>\n",
       "      <th>Phenotype 14</th>\n",
       "      <th>Phenotype 15</th>\n",
       "      <th>Phenotype 16</th>\n",
       "      <th>Phenotype 17</th>\n",
       "      <th>Phenotype 18</th>\n",
       "      <th>Phenotype 19</th>\n",
       "    </tr>\n",
       "  </thead>\n",
       "  <tbody>\n",
       "    <tr>\n",
       "      <th>count</th>\n",
       "      <td>262</td>\n",
       "      <td>262</td>\n",
       "      <td>262</td>\n",
       "      <td>262</td>\n",
       "      <td>262</td>\n",
       "      <td>262</td>\n",
       "      <td>262</td>\n",
       "      <td>262</td>\n",
       "      <td>262</td>\n",
       "      <td>262</td>\n",
       "      <td>...</td>\n",
       "      <td>262</td>\n",
       "      <td>262</td>\n",
       "      <td>262</td>\n",
       "      <td>262</td>\n",
       "      <td>262</td>\n",
       "      <td>262</td>\n",
       "      <td>262</td>\n",
       "      <td>262</td>\n",
       "      <td>262</td>\n",
       "      <td>262</td>\n",
       "    </tr>\n",
       "    <tr>\n",
       "      <th>unique</th>\n",
       "      <td>262</td>\n",
       "      <td>199</td>\n",
       "      <td>41</td>\n",
       "      <td>41</td>\n",
       "      <td>12</td>\n",
       "      <td>2</td>\n",
       "      <td>2</td>\n",
       "      <td>2</td>\n",
       "      <td>2</td>\n",
       "      <td>2</td>\n",
       "      <td>...</td>\n",
       "      <td>2</td>\n",
       "      <td>2</td>\n",
       "      <td>2</td>\n",
       "      <td>2</td>\n",
       "      <td>2</td>\n",
       "      <td>2</td>\n",
       "      <td>2</td>\n",
       "      <td>2</td>\n",
       "      <td>2</td>\n",
       "      <td>2</td>\n",
       "    </tr>\n",
       "    <tr>\n",
       "      <th>top</th>\n",
       "      <td>SPCC790.02</td>\n",
       "      <td></td>\n",
       "      <td></td>\n",
       "      <td></td>\n",
       "      <td></td>\n",
       "      <td></td>\n",
       "      <td></td>\n",
       "      <td>yes</td>\n",
       "      <td>yes</td>\n",
       "      <td>yes</td>\n",
       "      <td>...</td>\n",
       "      <td></td>\n",
       "      <td></td>\n",
       "      <td></td>\n",
       "      <td></td>\n",
       "      <td></td>\n",
       "      <td></td>\n",
       "      <td></td>\n",
       "      <td></td>\n",
       "      <td></td>\n",
       "      <td></td>\n",
       "    </tr>\n",
       "    <tr>\n",
       "      <th>freq</th>\n",
       "      <td>1</td>\n",
       "      <td>64</td>\n",
       "      <td>119</td>\n",
       "      <td>76</td>\n",
       "      <td>227</td>\n",
       "      <td>227</td>\n",
       "      <td>228</td>\n",
       "      <td>232</td>\n",
       "      <td>204</td>\n",
       "      <td>131</td>\n",
       "      <td>...</td>\n",
       "      <td>253</td>\n",
       "      <td>261</td>\n",
       "      <td>261</td>\n",
       "      <td>233</td>\n",
       "      <td>259</td>\n",
       "      <td>261</td>\n",
       "      <td>258</td>\n",
       "      <td>260</td>\n",
       "      <td>236</td>\n",
       "      <td>260</td>\n",
       "    </tr>\n",
       "  </tbody>\n",
       "</table>\n",
       "<p>4 rows × 32 columns</p>\n",
       "</div>"
      ],
      "text/plain": [
       "       Gene Identifier Gene Symbol Reproducibility of Shape Hits  \\\n",
       "count              262         262                           262   \n",
       "unique             262         199                            41   \n",
       "top         SPCC790.02                                             \n",
       "freq                 1          64                           119   \n",
       "\n",
       "       Reproducibility of Microtubule Hits  \\\n",
       "count                                  262   \n",
       "unique                                  41   \n",
       "top                                          \n",
       "freq                                    76   \n",
       "\n",
       "       Reproducibility of Cell Cycle Progression Hits Visual Shape Hit  \\\n",
       "count                                             262              262   \n",
       "unique                                             12                2   \n",
       "top                                                                      \n",
       "freq                                              227              227   \n",
       "\n",
       "       Visual Microtubule Hit Conservation in S. cerevisiae  \\\n",
       "count                     262                           262   \n",
       "unique                      2                             2   \n",
       "top                                                     yes   \n",
       "freq                      228                           232   \n",
       "\n",
       "       Conservation in Vertebrates Conservation in H. sapiens     ...       \\\n",
       "count                          262                        262     ...        \n",
       "unique                           2                          2     ...        \n",
       "top                            yes                        yes     ...        \n",
       "freq                           204                        131     ...        \n",
       "\n",
       "       Phenotype 10 Phenotype 11 Phenotype 12 Phenotype 13 Phenotype 14  \\\n",
       "count           262          262          262          262          262   \n",
       "unique            2            2            2            2            2   \n",
       "top                                                                       \n",
       "freq            253          261          261          233          259   \n",
       "\n",
       "       Phenotype 15 Phenotype 16 Phenotype 17 Phenotype 18 Phenotype 19  \n",
       "count           262          262          262          262          262  \n",
       "unique            2            2            2            2            2  \n",
       "top                                                                      \n",
       "freq            261          258          260          236          260  \n",
       "\n",
       "[4 rows x 32 columns]"
      ]
     },
     "execution_count": 10,
     "metadata": {},
     "output_type": "execute_result"
    }
   ],
   "source": [
    "library.describe()"
   ]
  },
  {
   "cell_type": "markdown",
   "metadata": {},
   "source": [
    "Validate the created datapackage"
   ]
  },
  {
   "cell_type": "code",
   "execution_count": 11,
   "metadata": {
    "collapsed": false
   },
   "outputs": [
    {
     "ename": "ValidationError",
     "evalue": "u'screenA library file' does not match u'^([a-z0-9._-])+$'\n\nFailed validating u'pattern' in schema[u'properties'][u'resources'][u'items'][u'properties'][u'name']:\n    {u'description': u\"An identifier for this package. Lower case characters with '.', '_' and '-' are allowed.\",\n     u'pattern': u'^([a-z0-9._-])+$',\n     u'title': u'Name',\n     u'type': u'string'}\n\nOn instance[u'resources'][0][u'name']:\n    u'screenA library file'",
     "output_type": "error",
     "traceback": [
      "\u001b[0;31m---------------------------------------------------------------------------\u001b[0m",
      "\u001b[0;31mValidationError\u001b[0m                           Traceback (most recent call last)",
      "\u001b[0;32m<ipython-input-11-d775279718bc>\u001b[0m in \u001b[0;36m<module>\u001b[0;34m()\u001b[0m\n\u001b[0;32m----> 1\u001b[0;31m \u001b[0mcopyDP\u001b[0m\u001b[0;34m.\u001b[0m\u001b[0mvalidate\u001b[0m\u001b[0;34m(\u001b[0m\u001b[0;34m)\u001b[0m\u001b[0;34m\u001b[0m\u001b[0m\n\u001b[0m",
      "\u001b[0;32m/opt/v/lib/python2.7/site-packages/datapackage/datapackage.pyc\u001b[0m in \u001b[0;36mvalidate\u001b[0;34m(self)\u001b[0m\n\u001b[1;32m    228\u001b[0m             \u001b[0mValidationError\u001b[0m\u001b[0;34m:\u001b[0m \u001b[0mIf\u001b[0m \u001b[0mthe\u001b[0m \u001b[0mData\u001b[0m \u001b[0mPackage\u001b[0m \u001b[0;32mis\u001b[0m \u001b[0minvalid\u001b[0m\u001b[0;34m.\u001b[0m\u001b[0;34m\u001b[0m\u001b[0m\n\u001b[1;32m    229\u001b[0m         '''\n\u001b[0;32m--> 230\u001b[0;31m         \u001b[0mself\u001b[0m\u001b[0;34m.\u001b[0m\u001b[0mschema\u001b[0m\u001b[0;34m.\u001b[0m\u001b[0mvalidate\u001b[0m\u001b[0;34m(\u001b[0m\u001b[0mself\u001b[0m\u001b[0;34m.\u001b[0m\u001b[0mto_dict\u001b[0m\u001b[0;34m(\u001b[0m\u001b[0;34m)\u001b[0m\u001b[0;34m)\u001b[0m\u001b[0;34m\u001b[0m\u001b[0m\n\u001b[0m\u001b[1;32m    231\u001b[0m \u001b[0;34m\u001b[0m\u001b[0m\n\u001b[1;32m    232\u001b[0m     \u001b[0;32mdef\u001b[0m \u001b[0miter_errors\u001b[0m\u001b[0;34m(\u001b[0m\u001b[0mself\u001b[0m\u001b[0;34m)\u001b[0m\u001b[0;34m:\u001b[0m\u001b[0;34m\u001b[0m\u001b[0m\n",
      "\u001b[0;32m/opt/v/lib/python2.7/site-packages/datapackage/schema.pyc\u001b[0m in \u001b[0;36mvalidate\u001b[0;34m(self, data)\u001b[0m\n\u001b[1;32m     54\u001b[0m             \u001b[0mself\u001b[0m\u001b[0;34m.\u001b[0m\u001b[0m_validator\u001b[0m\u001b[0;34m.\u001b[0m\u001b[0mvalidate\u001b[0m\u001b[0;34m(\u001b[0m\u001b[0mdata\u001b[0m\u001b[0;34m)\u001b[0m\u001b[0;34m\u001b[0m\u001b[0m\n\u001b[1;32m     55\u001b[0m         \u001b[0;32mexcept\u001b[0m \u001b[0mjsonschema\u001b[0m\u001b[0;34m.\u001b[0m\u001b[0mValidationError\u001b[0m \u001b[0;32mas\u001b[0m \u001b[0me\u001b[0m\u001b[0;34m:\u001b[0m\u001b[0;34m\u001b[0m\u001b[0m\n\u001b[0;32m---> 56\u001b[0;31m             \u001b[0msix\u001b[0m\u001b[0;34m.\u001b[0m\u001b[0mraise_from\u001b[0m\u001b[0;34m(\u001b[0m\u001b[0mValidationError\u001b[0m\u001b[0;34m.\u001b[0m\u001b[0mcreate_from\u001b[0m\u001b[0;34m(\u001b[0m\u001b[0me\u001b[0m\u001b[0;34m)\u001b[0m\u001b[0;34m,\u001b[0m \u001b[0me\u001b[0m\u001b[0;34m)\u001b[0m\u001b[0;34m\u001b[0m\u001b[0m\n\u001b[0m\u001b[1;32m     57\u001b[0m \u001b[0;34m\u001b[0m\u001b[0m\n\u001b[1;32m     58\u001b[0m     \u001b[0;32mdef\u001b[0m \u001b[0miter_errors\u001b[0m\u001b[0;34m(\u001b[0m\u001b[0mself\u001b[0m\u001b[0;34m,\u001b[0m \u001b[0mdata\u001b[0m\u001b[0;34m)\u001b[0m\u001b[0;34m:\u001b[0m\u001b[0;34m\u001b[0m\u001b[0m\n",
      "\u001b[0;32m/opt/v/lib/python2.7/site-packages/six.pyc\u001b[0m in \u001b[0;36mraise_from\u001b[0;34m(value, from_value)\u001b[0m\n\u001b[1;32m    716\u001b[0m \u001b[0;32melse\u001b[0m\u001b[0;34m:\u001b[0m\u001b[0;34m\u001b[0m\u001b[0m\n\u001b[1;32m    717\u001b[0m     \u001b[0;32mdef\u001b[0m \u001b[0mraise_from\u001b[0m\u001b[0;34m(\u001b[0m\u001b[0mvalue\u001b[0m\u001b[0;34m,\u001b[0m \u001b[0mfrom_value\u001b[0m\u001b[0;34m)\u001b[0m\u001b[0;34m:\u001b[0m\u001b[0;34m\u001b[0m\u001b[0m\n\u001b[0;32m--> 718\u001b[0;31m         \u001b[0;32mraise\u001b[0m \u001b[0mvalue\u001b[0m\u001b[0;34m\u001b[0m\u001b[0m\n\u001b[0m\u001b[1;32m    719\u001b[0m \u001b[0;34m\u001b[0m\u001b[0m\n\u001b[1;32m    720\u001b[0m \u001b[0;34m\u001b[0m\u001b[0m\n",
      "\u001b[0;31mValidationError\u001b[0m: u'screenA library file' does not match u'^([a-z0-9._-])+$'\n\nFailed validating u'pattern' in schema[u'properties'][u'resources'][u'items'][u'properties'][u'name']:\n    {u'description': u\"An identifier for this package. Lower case characters with '.', '_' and '-' are allowed.\",\n     u'pattern': u'^([a-z0-9._-])+$',\n     u'title': u'Name',\n     u'type': u'string'}\n\nOn instance[u'resources'][0][u'name']:\n    u'screenA library file'"
     ]
    }
   ],
   "source": [
    "copyDP.validate()"
   ]
  },
  {
   "cell_type": "code",
   "execution_count": null,
   "metadata": {
    "collapsed": false
   },
   "outputs": [],
   "source": [
    "from goodtables import processors\n",
    "\n",
    "def test_schema(resource):\n",
    "    # We heart CSV :)\n",
    "    \n",
    "    data_format = 'csv'\n",
    "\n",
    "    # Load our Data Package path and schema\n",
    "    \n",
    "    data = resource['path']\n",
    "    schema = resource['schema']\n",
    "\n",
    "    # We use the \"schema\" processor to test the data against its\n",
    "    # expected schema.  There is also a \"structure\" processor.\n",
    "    \n",
    "    processor = processors.SchemaProcessor(schema=schema,\n",
    "        format=data_format,\n",
    "        row_limit=row_limit,\n",
    "        report_limit=report_limit)\n",
    "    valid, report, data = processor.run(data)\n",
    "\n",
    "    # Various formatting options for our report follow.  \n",
    "    \n",
    "    output_format = 'txt'\n",
    "    exclude = ['result_context', 'processor', 'row_name', \n",
    "               'result_category', 'column_name', 'result_id', \n",
    "               'result_level']\n",
    "\n",
    "    # And here's our report!\n",
    "    \n",
    "    out = report.generate(output_format, exclude=exclude)\n",
    "\n",
    "    assert valid == out"
   ]
  },
  {
   "cell_type": "code",
   "execution_count": null,
   "metadata": {
    "collapsed": true
   },
   "outputs": [],
   "source": [
    "from goodtables import processors\n",
    "\n",
    "def test_schema(datafile):\n",
    "    schemafile = study.replace(\"txt\", \"json\")\n",
    "    processor = processors.StructureProcessor(format='csv')\n",
    "    valid, report, data = processor.run(datafile)\n",
    "    output_format = 'txt'\n",
    "    exclude = ['result_context', 'processor', 'row_name', 'result_category',\n",
    "               'column_index', 'column_name', 'result_level']\n",
    "    out = report.generate(output_format, exclude=exclude)\n",
    "    print(out)\n",
    "    \n",
    "    processor = processors.SchemaProcessor(format='csv',\n",
    "                                           schema=schemafile)\n",
    "\n",
    "    valid, report, data = processor.run(datafile)\n",
    "    output_format = 'txt'\n",
    "    exclude = ['result_context', 'processor', 'row_name', 'result_category',\n",
    "               'column_index', 'column_name', 'result_level']\n",
    "    out = report.generate(output_format, exclude=exclude)\n",
    "    print(out)"
   ]
  },
  {
   "cell_type": "code",
   "execution_count": null,
   "metadata": {
    "collapsed": false
   },
   "outputs": [],
   "source": [
    "test_schema(copyDP.resources[0].local_data_path)"
   ]
  },
  {
   "cell_type": "code",
   "execution_count": null,
   "metadata": {
    "collapsed": true
   },
   "outputs": [],
   "source": [
    "test_schema(copyDP.resources[1])"
   ]
  },
  {
   "cell_type": "markdown",
   "metadata": {},
   "source": [
    "Merge the linked data files into a single annotation CSV file."
   ]
  },
  {
   "cell_type": "code",
   "execution_count": null,
   "metadata": {
    "collapsed": false
   },
   "outputs": [],
   "source": [
    "import pandas as pd\n",
    "annotations = pd.merge(processed, library, how='outer', on=['Gene Identifier', 'Gene Symbol'])\n",
    "annotations.describe()"
   ]
  },
  {
   "cell_type": "code",
   "execution_count": null,
   "metadata": {
    "collapsed": true
   },
   "outputs": [],
   "source": [
    "annotations.to_csv(\"test.csv\", index=False)"
   ]
  }
 ],
 "metadata": {
  "kernelspec": {
   "display_name": "Python 2",
   "language": "python",
   "name": "python2"
  },
  "language_info": {
   "codemirror_mode": {
    "name": "ipython",
    "version": 2
   },
   "file_extension": ".py",
   "mimetype": "text/x-python",
   "name": "python",
   "nbconvert_exporter": "python",
   "pygments_lexer": "ipython2",
   "version": "2.7.11"
  }
 },
 "nbformat": 4,
 "nbformat_minor": 0
}
